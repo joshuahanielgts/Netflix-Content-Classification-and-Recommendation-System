{
  "nbformat": 4,
  "nbformat_minor": 0,
  "metadata": {
    "colab": {
      "provenance": []
    },
    "kernelspec": {
      "name": "python3",
      "display_name": "Python 3"
    },
    "language_info": {
      "name": "python"
    },
    "widgets": {
      "application/vnd.jupyter.widget-state+json": {
        "8132df46251144bb8004fbc34e85f9ee": {
          "model_module": "@jupyter-widgets/controls",
          "model_name": "HBoxModel",
          "model_module_version": "1.5.0",
          "state": {
            "_dom_classes": [],
            "_model_module": "@jupyter-widgets/controls",
            "_model_module_version": "1.5.0",
            "_model_name": "HBoxModel",
            "_view_count": null,
            "_view_module": "@jupyter-widgets/controls",
            "_view_module_version": "1.5.0",
            "_view_name": "HBoxView",
            "box_style": "",
            "children": [
              "IPY_MODEL_283555130d624ae890743e9f7c460ffd",
              "IPY_MODEL_94b2961e21d04bd3a6cc85feb171761f",
              "IPY_MODEL_a8b2738c0a58483eb70a12271f80578b"
            ],
            "layout": "IPY_MODEL_70b83f9c6300418090d66fb471e9244b"
          }
        },
        "283555130d624ae890743e9f7c460ffd": {
          "model_module": "@jupyter-widgets/controls",
          "model_name": "HTMLModel",
          "model_module_version": "1.5.0",
          "state": {
            "_dom_classes": [],
            "_model_module": "@jupyter-widgets/controls",
            "_model_module_version": "1.5.0",
            "_model_name": "HTMLModel",
            "_view_count": null,
            "_view_module": "@jupyter-widgets/controls",
            "_view_module_version": "1.5.0",
            "_view_name": "HTMLView",
            "description": "",
            "description_tooltip": null,
            "layout": "IPY_MODEL_136a30057c2b43bf8440af31384f1a22",
            "placeholder": "​",
            "style": "IPY_MODEL_d2d7f767cc0f44eb8162dfc36b606485",
            "value": "Batches: 100%"
          }
        },
        "94b2961e21d04bd3a6cc85feb171761f": {
          "model_module": "@jupyter-widgets/controls",
          "model_name": "FloatProgressModel",
          "model_module_version": "1.5.0",
          "state": {
            "_dom_classes": [],
            "_model_module": "@jupyter-widgets/controls",
            "_model_module_version": "1.5.0",
            "_model_name": "FloatProgressModel",
            "_view_count": null,
            "_view_module": "@jupyter-widgets/controls",
            "_view_module_version": "1.5.0",
            "_view_name": "ProgressView",
            "bar_style": "success",
            "description": "",
            "description_tooltip": null,
            "layout": "IPY_MODEL_98cf98aa5bac4271b8fba88fafecbc21",
            "max": 49,
            "min": 0,
            "orientation": "horizontal",
            "style": "IPY_MODEL_ee86cf5d0fd749efb01aeb7be20066c1",
            "value": 49
          }
        },
        "a8b2738c0a58483eb70a12271f80578b": {
          "model_module": "@jupyter-widgets/controls",
          "model_name": "HTMLModel",
          "model_module_version": "1.5.0",
          "state": {
            "_dom_classes": [],
            "_model_module": "@jupyter-widgets/controls",
            "_model_module_version": "1.5.0",
            "_model_name": "HTMLModel",
            "_view_count": null,
            "_view_module": "@jupyter-widgets/controls",
            "_view_module_version": "1.5.0",
            "_view_name": "HTMLView",
            "description": "",
            "description_tooltip": null,
            "layout": "IPY_MODEL_99a2a270b2814c92a3b5c01eb4dbf558",
            "placeholder": "​",
            "style": "IPY_MODEL_527e3221bc464fef9e909f69235f022c",
            "value": " 49/49 [04:41&lt;00:00,  2.86s/it]"
          }
        },
        "70b83f9c6300418090d66fb471e9244b": {
          "model_module": "@jupyter-widgets/base",
          "model_name": "LayoutModel",
          "model_module_version": "1.2.0",
          "state": {
            "_model_module": "@jupyter-widgets/base",
            "_model_module_version": "1.2.0",
            "_model_name": "LayoutModel",
            "_view_count": null,
            "_view_module": "@jupyter-widgets/base",
            "_view_module_version": "1.2.0",
            "_view_name": "LayoutView",
            "align_content": null,
            "align_items": null,
            "align_self": null,
            "border": null,
            "bottom": null,
            "display": null,
            "flex": null,
            "flex_flow": null,
            "grid_area": null,
            "grid_auto_columns": null,
            "grid_auto_flow": null,
            "grid_auto_rows": null,
            "grid_column": null,
            "grid_gap": null,
            "grid_row": null,
            "grid_template_areas": null,
            "grid_template_columns": null,
            "grid_template_rows": null,
            "height": null,
            "justify_content": null,
            "justify_items": null,
            "left": null,
            "margin": null,
            "max_height": null,
            "max_width": null,
            "min_height": null,
            "min_width": null,
            "object_fit": null,
            "object_position": null,
            "order": null,
            "overflow": null,
            "overflow_x": null,
            "overflow_y": null,
            "padding": null,
            "right": null,
            "top": null,
            "visibility": null,
            "width": null
          }
        },
        "136a30057c2b43bf8440af31384f1a22": {
          "model_module": "@jupyter-widgets/base",
          "model_name": "LayoutModel",
          "model_module_version": "1.2.0",
          "state": {
            "_model_module": "@jupyter-widgets/base",
            "_model_module_version": "1.2.0",
            "_model_name": "LayoutModel",
            "_view_count": null,
            "_view_module": "@jupyter-widgets/base",
            "_view_module_version": "1.2.0",
            "_view_name": "LayoutView",
            "align_content": null,
            "align_items": null,
            "align_self": null,
            "border": null,
            "bottom": null,
            "display": null,
            "flex": null,
            "flex_flow": null,
            "grid_area": null,
            "grid_auto_columns": null,
            "grid_auto_flow": null,
            "grid_auto_rows": null,
            "grid_column": null,
            "grid_gap": null,
            "grid_row": null,
            "grid_template_areas": null,
            "grid_template_columns": null,
            "grid_template_rows": null,
            "height": null,
            "justify_content": null,
            "justify_items": null,
            "left": null,
            "margin": null,
            "max_height": null,
            "max_width": null,
            "min_height": null,
            "min_width": null,
            "object_fit": null,
            "object_position": null,
            "order": null,
            "overflow": null,
            "overflow_x": null,
            "overflow_y": null,
            "padding": null,
            "right": null,
            "top": null,
            "visibility": null,
            "width": null
          }
        },
        "d2d7f767cc0f44eb8162dfc36b606485": {
          "model_module": "@jupyter-widgets/controls",
          "model_name": "DescriptionStyleModel",
          "model_module_version": "1.5.0",
          "state": {
            "_model_module": "@jupyter-widgets/controls",
            "_model_module_version": "1.5.0",
            "_model_name": "DescriptionStyleModel",
            "_view_count": null,
            "_view_module": "@jupyter-widgets/base",
            "_view_module_version": "1.2.0",
            "_view_name": "StyleView",
            "description_width": ""
          }
        },
        "98cf98aa5bac4271b8fba88fafecbc21": {
          "model_module": "@jupyter-widgets/base",
          "model_name": "LayoutModel",
          "model_module_version": "1.2.0",
          "state": {
            "_model_module": "@jupyter-widgets/base",
            "_model_module_version": "1.2.0",
            "_model_name": "LayoutModel",
            "_view_count": null,
            "_view_module": "@jupyter-widgets/base",
            "_view_module_version": "1.2.0",
            "_view_name": "LayoutView",
            "align_content": null,
            "align_items": null,
            "align_self": null,
            "border": null,
            "bottom": null,
            "display": null,
            "flex": null,
            "flex_flow": null,
            "grid_area": null,
            "grid_auto_columns": null,
            "grid_auto_flow": null,
            "grid_auto_rows": null,
            "grid_column": null,
            "grid_gap": null,
            "grid_row": null,
            "grid_template_areas": null,
            "grid_template_columns": null,
            "grid_template_rows": null,
            "height": null,
            "justify_content": null,
            "justify_items": null,
            "left": null,
            "margin": null,
            "max_height": null,
            "max_width": null,
            "min_height": null,
            "min_width": null,
            "object_fit": null,
            "object_position": null,
            "order": null,
            "overflow": null,
            "overflow_x": null,
            "overflow_y": null,
            "padding": null,
            "right": null,
            "top": null,
            "visibility": null,
            "width": null
          }
        },
        "ee86cf5d0fd749efb01aeb7be20066c1": {
          "model_module": "@jupyter-widgets/controls",
          "model_name": "ProgressStyleModel",
          "model_module_version": "1.5.0",
          "state": {
            "_model_module": "@jupyter-widgets/controls",
            "_model_module_version": "1.5.0",
            "_model_name": "ProgressStyleModel",
            "_view_count": null,
            "_view_module": "@jupyter-widgets/base",
            "_view_module_version": "1.2.0",
            "_view_name": "StyleView",
            "bar_color": null,
            "description_width": ""
          }
        },
        "99a2a270b2814c92a3b5c01eb4dbf558": {
          "model_module": "@jupyter-widgets/base",
          "model_name": "LayoutModel",
          "model_module_version": "1.2.0",
          "state": {
            "_model_module": "@jupyter-widgets/base",
            "_model_module_version": "1.2.0",
            "_model_name": "LayoutModel",
            "_view_count": null,
            "_view_module": "@jupyter-widgets/base",
            "_view_module_version": "1.2.0",
            "_view_name": "LayoutView",
            "align_content": null,
            "align_items": null,
            "align_self": null,
            "border": null,
            "bottom": null,
            "display": null,
            "flex": null,
            "flex_flow": null,
            "grid_area": null,
            "grid_auto_columns": null,
            "grid_auto_flow": null,
            "grid_auto_rows": null,
            "grid_column": null,
            "grid_gap": null,
            "grid_row": null,
            "grid_template_areas": null,
            "grid_template_columns": null,
            "grid_template_rows": null,
            "height": null,
            "justify_content": null,
            "justify_items": null,
            "left": null,
            "margin": null,
            "max_height": null,
            "max_width": null,
            "min_height": null,
            "min_width": null,
            "object_fit": null,
            "object_position": null,
            "order": null,
            "overflow": null,
            "overflow_x": null,
            "overflow_y": null,
            "padding": null,
            "right": null,
            "top": null,
            "visibility": null,
            "width": null
          }
        },
        "527e3221bc464fef9e909f69235f022c": {
          "model_module": "@jupyter-widgets/controls",
          "model_name": "DescriptionStyleModel",
          "model_module_version": "1.5.0",
          "state": {
            "_model_module": "@jupyter-widgets/controls",
            "_model_module_version": "1.5.0",
            "_model_name": "DescriptionStyleModel",
            "_view_count": null,
            "_view_module": "@jupyter-widgets/base",
            "_view_module_version": "1.2.0",
            "_view_name": "StyleView",
            "description_width": ""
          }
        }
      }
    }
  },
  "cells": [
    {
      "cell_type": "code",
      "execution_count": null,
      "metadata": {
        "id": "8JjIROb5J1os"
      },
      "outputs": [],
      "source": [
        "!pip -q install gradio==4.44.0 sentence-transformers==3.0.1 --progress-bar off\n",
        "\n",
        "import os, re, gc, json, textwrap, warnings, random\n",
        "import numpy as np\n",
        "import pandas as pd\n",
        "import matplotlib.pyplot as plt\n",
        "import seaborn as sns\n",
        "\n",
        "from datetime import datetime\n",
        "from typing import List, Optional\n",
        "\n",
        "from sklearn.model_selection import train_test_split, StratifiedKFold, GridSearchCV\n",
        "from sklearn.metrics import classification_report, confusion_matrix, accuracy_score\n",
        "from sklearn.feature_extraction.text import TfidfVectorizer\n",
        "from sklearn.naive_bayes import ComplementNB\n",
        "from sklearn.linear_model import LogisticRegression\n",
        "from sklearn.svm import LinearSVC\n",
        "from sklearn.pipeline import Pipeline\n",
        "from sklearn.utils import class_weight\n",
        "from sklearn.preprocessing import FunctionTransformer\n",
        "\n",
        "from sklearn.metrics.pairwise import cosine_similarity\n",
        "from sentence_transformers import SentenceTransformer, util\n",
        "\n",
        "import gradio as gr\n",
        "warnings.filterwarnings(\"ignore\")"
      ]
    },
    {
      "cell_type": "code",
      "source": [
        "RANDOM_SEED = 42\n",
        "np.random.seed(RANDOM_SEED)\n",
        "random.seed(RANDOM_SEED)\n",
        "\n",
        "ART_DIR = \"/content/artifacts\"\n",
        "os.makedirs(ART_DIR, exist_ok=True)\n",
        "\n",
        "# =========== DATA LOAD ===========\n",
        "CSV_PATH = \"/content/netflix_titles.csv\"   # Upload this file to Colab workspace\n",
        "assert os.path.exists(CSV_PATH), f\"CSV not found at {CSV_PATH}. Upload it to Colab.\"\n",
        "\n",
        "df_raw = pd.read_csv(CSV_PATH)\n",
        "df = df_raw.copy()\n",
        "\n",
        "print(\"Shape:\", df.shape)\n",
        "print(df.head(3))\n",
        "print(\"\\nColumns:\", df.columns.tolist())"
      ],
      "metadata": {
        "colab": {
          "base_uri": "https://localhost:8080/"
        },
        "id": "ls7sSDPEJ2el",
        "outputId": "4d28f468-3f18-476a-8c83-ea599d0a9dbd"
      },
      "execution_count": null,
      "outputs": [
        {
          "output_type": "stream",
          "name": "stdout",
          "text": [
            "Shape: (6234, 12)\n",
            "    show_id     type                                    title  \\\n",
            "0  81145628    Movie  Norm of the North: King Sized Adventure   \n",
            "1  80117401    Movie               Jandino: Whatever it Takes   \n",
            "2  70234439  TV Show                       Transformers Prime   \n",
            "\n",
            "                   director  \\\n",
            "0  Richard Finn, Tim Maltby   \n",
            "1                       NaN   \n",
            "2                       NaN   \n",
            "\n",
            "                                                cast  \\\n",
            "0  Alan Marriott, Andrew Toth, Brian Dobson, Cole...   \n",
            "1                                   Jandino Asporaat   \n",
            "2  Peter Cullen, Sumalee Montano, Frank Welker, J...   \n",
            "\n",
            "                                    country         date_added  release_year  \\\n",
            "0  United States, India, South Korea, China  September 9, 2019          2019   \n",
            "1                            United Kingdom  September 9, 2016          2016   \n",
            "2                             United States  September 8, 2018          2013   \n",
            "\n",
            "     rating  duration                           listed_in  \\\n",
            "0     TV-PG    90 min  Children & Family Movies, Comedies   \n",
            "1     TV-MA    94 min                     Stand-Up Comedy   \n",
            "2  TV-Y7-FV  1 Season                            Kids' TV   \n",
            "\n",
            "                                         description  \n",
            "0  Before planning an awesome wedding for his gra...  \n",
            "1  Jandino Asporaat riffs on the challenges of ra...  \n",
            "2  With the help of three human allies, the Autob...  \n",
            "\n",
            "Columns: ['show_id', 'type', 'title', 'director', 'cast', 'country', 'date_added', 'release_year', 'rating', 'duration', 'listed_in', 'description']\n"
          ]
        }
      ]
    },
    {
      "cell_type": "code",
      "source": [
        "print(\"\\nMissing values per column:\\n\", df.isna().sum().sort_values(ascending=False))\n",
        "\n",
        "# Standardize dtypes\n",
        "date_cols = ['date_added']\n",
        "for c in date_cols:\n",
        "    if c in df.columns:\n",
        "        df[c] = pd.to_datetime(df[c], errors='coerce')\n",
        "\n",
        "num_rows = len(df)\n",
        "\n",
        "# Quick summaries\n",
        "print(\"\\nType distribution:\\n\", df['type'].value_counts(dropna=False))\n",
        "print(\"\\nSample descriptions:\\n\")\n",
        "for _, r in df[['title','type','description']].dropna().head(5).iterrows():\n",
        "    print(f\"- {r['title']} [{r['type']}]: {textwrap.shorten(r['description'], width=110)}\")"
      ],
      "metadata": {
        "colab": {
          "base_uri": "https://localhost:8080/"
        },
        "id": "itAG2AqKJ2go",
        "outputId": "98923098-c468-46f0-8ed8-887423bc5120"
      },
      "execution_count": null,
      "outputs": [
        {
          "output_type": "stream",
          "name": "stdout",
          "text": [
            "\n",
            "Missing values per column:\n",
            " director        1969\n",
            "cast             570\n",
            "country          476\n",
            "date_added        11\n",
            "rating            10\n",
            "title              0\n",
            "show_id            0\n",
            "type               0\n",
            "release_year       0\n",
            "duration           0\n",
            "listed_in          0\n",
            "description        0\n",
            "dtype: int64\n",
            "\n",
            "Type distribution:\n",
            " type\n",
            "Movie      4265\n",
            "TV Show    1969\n",
            "Name: count, dtype: int64\n",
            "\n",
            "Sample descriptions:\n",
            "\n",
            "- Norm of the North: King Sized Adventure [Movie]: Before planning an awesome wedding for his grandfather, a polar bear king must take back a stolen [...]\n",
            "- Jandino: Whatever it Takes [Movie]: Jandino Asporaat riffs on the challenges of raising kids and serenades the audience with a rousing [...]\n",
            "- Transformers Prime [TV Show]: With the help of three human allies, the Autobots once again protect Earth from the onslaught of the [...]\n",
            "- Transformers: Robots in Disguise [TV Show]: When a prison ship crash unleashes hundreds of Decepticons on Earth, Bumblebee leads a new Autobot force [...]\n",
            "- #realityhigh [Movie]: When nerdy high schooler Dani finally attracts the interest of her longtime crush, she lands in the [...]\n"
          ]
        }
      ]
    },
    {
      "cell_type": "code",
      "source": [
        "plt.figure(figsize=(5,4))\n",
        "sns.countplot(data=df, x='type')\n",
        "plt.title(\"Count: Movie vs TV Show\")\n",
        "plt.tight_layout()\n",
        "plt.show()\n",
        "\n",
        "if 'release_year' in df.columns:\n",
        "    plt.figure(figsize=(8,4))\n",
        "    df['release_year'].value_counts().sort_index().plot(kind='line')\n",
        "    plt.title(\"Titles by Release Year\")\n",
        "    plt.xlabel(\"Year\")\n",
        "    plt.ylabel(\"Count\")\n",
        "    plt.tight_layout()\n",
        "    plt.show()"
      ],
      "metadata": {
        "colab": {
          "base_uri": "https://localhost:8080/",
          "height": 797
        },
        "id": "E-P7yHIgJ2jL",
        "outputId": "5d34b257-990c-4c85-cc11-b951cb07ec5b"
      },
      "execution_count": null,
      "outputs": [
        {
          "output_type": "display_data",
          "data": {
            "text/plain": [
              "<Figure size 500x400 with 1 Axes>"
            ],
            "image/png": "[encoded data removed]"
          },
          "metadata": {}
        },
        {
          "output_type": "display_data",
          "data": {
            "text/plain": [
              "<Figure size 800x400 with 1 Axes>"
            ],
            "image/png": "[encoded data removed]"
          },
          "metadata": {}
        }
      ]
    },
    {
      "cell_type": "code",
      "source": [
        "def explode_and_count(col: str, sep: str = \",\"):\n",
        "    s = df[col].fillna(\"\").astype(str).str.split(sep)\n",
        "    vals = pd.Series([x.strip() for sub in s for x in sub if x.strip()])\n",
        "    return vals.value_counts().head(20)\n",
        "\n",
        "if 'country' in df.columns:\n",
        "    print(\"\\nTop Countries:\\n\", explode_and_count('country').head(10))\n",
        "\n",
        "if 'listed_in' in df.columns:\n",
        "    print(\"\\nTop Genres:\\n\", explode_and_count('listed_in').head(15))\n",
        "\n",
        "# =========== CLEANING & FEATURE ENGINEERING ===========\n",
        "# Fill NAs with empty string for text fields\n",
        "TEXT_COLS = ['title','director','cast','country','listed_in','description']\n",
        "for col in TEXT_COLS:\n",
        "    if col in df.columns:\n",
        "        df[col] = df[col].fillna(\"\")"
      ],
      "metadata": {
        "colab": {
          "base_uri": "https://localhost:8080/"
        },
        "id": "2CbBw2KIJ2nl",
        "outputId": "f8aed44d-d168-41ed-eab2-83ae5dc63281"
      },
      "execution_count": null,
      "outputs": [
        {
          "output_type": "stream",
          "name": "stdout",
          "text": [
            "\n",
            "Top Countries:\n",
            " United States     2610\n",
            "India              838\n",
            "United Kingdom     602\n",
            "Canada             318\n",
            "France             271\n",
            "Japan              231\n",
            "Spain              178\n",
            "South Korea        162\n",
            "Germany            151\n",
            "Mexico             129\n",
            "Name: count, dtype: int64\n",
            "\n",
            "Top Genres:\n",
            " International Movies        1927\n",
            "Dramas                      1623\n",
            "Comedies                    1113\n",
            "International TV Shows      1001\n",
            "Documentaries                668\n",
            "TV Dramas                    599\n",
            "Action & Adventure           597\n",
            "Independent Movies           552\n",
            "TV Comedies                  436\n",
            "Thrillers                    392\n",
            "Children & Family Movies     378\n",
            "Romantic Movies              376\n",
            "Crime TV Shows               363\n",
            "Kids' TV                     328\n",
            "Stand-Up Comedy              281\n",
            "Name: count, dtype: int64\n"
          ]
        }
      ]
    },
    {
      "cell_type": "code",
      "source": [
        "def normalize_text(s: str) -> str:\n",
        "    s = s.lower()\n",
        "    s = re.sub(r\"\\s+\", \" \", s)\n",
        "    s = re.sub(r\"[^\\w\\s]\", \" \", s)  # keep letters/numbers/spaces\n",
        "    return s.strip()\n",
        "\n",
        "for col in ['title','description','listed_in','cast','director','country']:\n",
        "    df[col] = df[col].astype(str).apply(normalize_text)\n",
        "\n",
        "# Build a rich \"content blob\" for recommendations\n",
        "def build_blob(row):\n",
        "    parts = []\n",
        "    for c in ['title','listed_in','cast','director','country','description']:\n",
        "        if c in row and isinstance(row[c], str) and row[c]:\n",
        "            parts.append(row[c])\n",
        "    return \" . \".join(parts)\n",
        "\n",
        "df['content_blob'] = df.apply(build_blob, axis=1)\n"
      ],
      "metadata": {
        "id": "c0dyPVUYJ2p8"
      },
      "execution_count": null,
      "outputs": []
    },
    {
      "cell_type": "code",
      "source": [
        "df = df.dropna(subset=['type']).reset_index(drop=True)\n",
        "df = df[df['type'].isin(['Movie','TV Show'])].reset_index(drop=True)\n",
        "\n",
        "print(\"\\nFinal usable rows:\", len(df))\n",
        "\n",
        "# =========== TRAIN/TEST SPLIT ===========\n",
        "X_text = df['description']  # keep classification purely on description for purity\n",
        "y = df['type']\n",
        "\n",
        "X_train, X_test, y_train, y_test = train_test_split(\n",
        "    X_text, y, test_size=0.2, random_state=RANDOM_SEED, stratify=y\n",
        ")\n",
        "\n",
        "print(f\"Train size: {len(X_train)} | Test size: {len(X_test)}\")"
      ],
      "metadata": {
        "colab": {
          "base_uri": "https://localhost:8080/"
        },
        "id": "mjHUb5_LKFr0",
        "outputId": "ec31d40d-6a5d-46d5-9138-39856ac04baf"
      },
      "execution_count": null,
      "outputs": [
        {
          "output_type": "stream",
          "name": "stdout",
          "text": [
            "\n",
            "Final usable rows: 6234\n",
            "Train size: 4987 | Test size: 1247\n"
          ]
        }
      ]
    },
    {
      "cell_type": "code",
      "source": [
        "pipelines = {\n",
        "    \"LogReg\": Pipeline([\n",
        "        (\"tfidf\", TfidfVectorizer(stop_words=\"english\", max_features=20000, ngram_range=(1,2))),\n",
        "        (\"clf\", LogisticRegression(max_iter=200, class_weight=\"balanced\", n_jobs=None))\n",
        "    ]),\n",
        "    \"LinearSVC\": Pipeline([\n",
        "        (\"tfidf\", TfidfVectorizer(stop_words=\"english\", max_features=20000, ngram_range=(1,2))),\n",
        "        (\"clf\", LinearSVC(class_weight=\"balanced\"))\n",
        "    ]),\n",
        "    \"ComplementNB\": Pipeline([\n",
        "        (\"tfidf\", TfidfVectorizer(stop_words=\"english\", max_features=20000, ngram_range=(1,2))),\n",
        "        (\"clf\", ComplementNB())\n",
        "    ]),\n",
        "}"
      ],
      "metadata": {
        "id": "Rp7zkw6WKFpV"
      },
      "execution_count": null,
      "outputs": []
    },
    {
      "cell_type": "code",
      "source": [
        "results = {}\n",
        "for name, pipe in pipelines.items():\n",
        "    pipe.fit(X_train, y_train)\n",
        "    preds = pipe.predict(X_test)\n",
        "    acc = accuracy_score(y_test, preds)\n",
        "    results[name] = acc\n",
        "    print(f\"{name} Accuracy: {acc:.4f}\")\n",
        "\n",
        "print(\"\\nClassification Report (best of 3 shown next after tuning).\")"
      ],
      "metadata": {
        "colab": {
          "base_uri": "https://localhost:8080/"
        },
        "id": "7TzotpL8O8Qi",
        "outputId": "3bbf41e5-89f5-4f81-fa8c-6996c83bb33f"
      },
      "execution_count": null,
      "outputs": [
        {
          "output_type": "stream",
          "name": "stdout",
          "text": [
            "LogReg Accuracy: 0.7322\n",
            "LinearSVC Accuracy: 0.7265\n",
            "ComplementNB Accuracy: 0.7418\n",
            "\n",
            "Classification Report (best of 3 shown next after tuning).\n"
          ]
        }
      ]
    },
    {
      "cell_type": "code",
      "source": [
        "param_grid_svc = {\n",
        "    \"tfidf__max_features\": [20000, 40000],\n",
        "    \"tfidf__ngram_range\": [(1,1), (1,2)],\n",
        "    \"clf__C\": [0.5, 1.0, 2.0]\n",
        "}\n",
        "svc = Pipeline([\n",
        "    (\"tfidf\", TfidfVectorizer(stop_words=\"english\")),\n",
        "    (\"clf\", LinearSVC(class_weight=\"balanced\"))\n",
        "])\n",
        "\n",
        "cv = StratifiedKFold(n_splits=5, shuffle=True, random_state=RANDOM_SEED)\n",
        "gs_svc = GridSearchCV(svc, param_grid_svc, scoring=\"accuracy\", cv=cv, n_jobs=-1, verbose=1)\n",
        "gs_svc.fit(X_train, y_train)\n",
        "print(\"\\nBest SVC Params:\", gs_svc.best_params_)\n",
        "svc_best = gs_svc.best_estimator_\n",
        "\n",
        "param_grid_lr = {\n",
        "    \"tfidf__max_features\": [20000, 40000],\n",
        "    \"tfidf__ngram_range\": [(1,1), (1,2)],\n",
        "    \"clf__C\": [0.5, 1.0, 2.0]\n",
        "}\n",
        "lr = Pipeline([\n",
        "    (\"tfidf\", TfidfVectorizer(stop_words=\"english\")),\n",
        "    (\"clf\", LogisticRegression(max_iter=300, class_weight=\"balanced\"))\n",
        "])\n",
        "gs_lr = GridSearchCV(lr, param_grid_lr, scoring=\"accuracy\", cv=cv, n_jobs=-1, verbose=1)\n",
        "gs_lr.fit(X_train, y_train)\n",
        "print(\"\\nBest LogReg Params:\", gs_lr.best_params_)\n",
        "lr_best = gs_lr.best_estimator_"
      ],
      "metadata": {
        "colab": {
          "base_uri": "https://localhost:8080/"
        },
        "id": "vTsxbkqsO8Ju",
        "outputId": "81d63aee-5f7e-475c-ec7f-bb584806800a"
      },
      "execution_count": null,
      "outputs": [
        {
          "output_type": "stream",
          "name": "stdout",
          "text": [
            "Fitting 5 folds for each of 12 candidates, totalling 60 fits\n",
            "\n",
            "Best SVC Params: {'clf__C': 0.5, 'tfidf__max_features': 40000, 'tfidf__ngram_range': (1, 2)}\n",
            "Fitting 5 folds for each of 12 candidates, totalling 60 fits\n",
            "\n",
            "Best LogReg Params: {'clf__C': 2.0, 'tfidf__max_features': 40000, 'tfidf__ngram_range': (1, 2)}\n"
          ]
        }
      ]
    },
    {
      "cell_type": "code",
      "source": [
        "for name, model in {\"LinearSVC_Tuned\": svc_best, \"LogReg_Tuned\": lr_best}.items():\n",
        "    y_pred = model.predict(X_test)\n",
        "    print(f\"\\n=== {name} ===\")\n",
        "    print(classification_report(y_test, y_pred))\n",
        "    cm = confusion_matrix(y_test, y_pred, labels=model.classes_ if hasattr(model, \"classes_\") else np.unique(y_test))\n",
        "    plt.figure(figsize=(5,4))\n",
        "    sns.heatmap(cm, annot=True, fmt='d', cmap=\"Blues\",\n",
        "                xticklabels=np.unique(y_test), yticklabels=np.unique(y_test))\n",
        "    plt.title(f\"Confusion Matrix - {name}\")\n",
        "    plt.tight_layout()\n",
        "    plt.show()"
      ],
      "metadata": {
        "colab": {
          "base_uri": "https://localhost:8080/",
          "height": 1000
        },
        "id": "TJEmJQV5PCxc",
        "outputId": "0eae0f1e-be6b-46f9-8a13-e79aded0e560"
      },
      "execution_count": null,
      "outputs": [
        {
          "output_type": "stream",
          "name": "stdout",
          "text": [
            "\n",
            "=== LinearSVC_Tuned ===\n",
            "              precision    recall  f1-score   support\n",
            "\n",
            "       Movie       0.80      0.83      0.82       853\n",
            "     TV Show       0.61      0.55      0.58       394\n",
            "\n",
            "    accuracy                           0.74      1247\n",
            "   macro avg       0.70      0.69      0.70      1247\n",
            "weighted avg       0.74      0.74      0.74      1247\n",
            "\n"
          ]
        },
        {
          "output_type": "display_data",
          "data": {
            "text/plain": [
              "<Figure size 500x400 with 2 Axes>"
            ],
            "image/png": "[encoded data removed]"
          },
          "metadata": {}
        },
        {
          "output_type": "stream",
          "name": "stdout",
          "text": [
            "\n",
            "=== LogReg_Tuned ===\n",
            "              precision    recall  f1-score   support\n",
            "\n",
            "       Movie       0.81      0.83      0.82       853\n",
            "     TV Show       0.60      0.57      0.58       394\n",
            "\n",
            "    accuracy                           0.74      1247\n",
            "   macro avg       0.70      0.70      0.70      1247\n",
            "weighted avg       0.74      0.74      0.74      1247\n",
            "\n"
          ]
        },
        {
          "output_type": "display_data",
          "data": {
            "text/plain": [
              "<Figure size 500x400 with 2 Axes>"
            ],
            "image/png": "[encoded data removed]"
          },
          "metadata": {}
        }
      ]
    },
    {
      "cell_type": "code",
      "source": [
        "prod_model = svc_best  # empirically SVC often wins on TF-IDF; flip to lr_best if yours does better\n",
        "print(\"\\nSelected production model:\", type(prod_model.named_steps['clf']).__name__)\n",
        "\n",
        "# Save classifier artifacts\n",
        "import joblib\n",
        "joblib.dump(prod_model, f\"{ART_DIR}/classifier_tfidf_linearSVC.joblib\")\n",
        "print(\"Saved:\", f\"{ART_DIR}/classifier_tfidf_linearSVC.joblib\")"
      ],
      "metadata": {
        "colab": {
          "base_uri": "https://localhost:8080/"
        },
        "id": "WeDc4aljPCuY",
        "outputId": "336fee2e-fc37-492f-dedd-336530de790f"
      },
      "execution_count": null,
      "outputs": [
        {
          "output_type": "stream",
          "name": "stdout",
          "text": [
            "\n",
            "Selected production model: LinearSVC\n",
            "Saved: /content/artifacts/classifier_tfidf_linearSVC.joblib\n"
          ]
        }
      ]
    },
    {
      "cell_type": "code",
      "source": [
        "def show_top_terms_lr(lr_pipe, top_k=20):\n",
        "    if not isinstance(lr_pipe.named_steps['clf'], LogisticRegression):\n",
        "        print(\"Top terms available only for LogisticRegression.\")\n",
        "        return\n",
        "\n",
        "    tfidf = lr_pipe.named_steps['tfidf']\n",
        "    clf = lr_pipe.named_steps['clf']\n",
        "    feature_names = np.array(tfidf.get_feature_names_out())\n",
        "\n",
        "    if clf.coef_.shape[0] == 1:\n",
        "        # Binary classification\n",
        "        coefs = clf.coef_[0]\n",
        "        top_idx = np.argsort(coefs)[-top_k:]\n",
        "        bottom_idx = np.argsort(coefs)[:top_k]\n",
        "\n",
        "        print(f\"\\nTop terms for class '{clf.classes_[1]}' (positive class):\")\n",
        "        print(feature_names[top_idx])\n",
        "\n",
        "        print(f\"\\nTop terms for class '{clf.classes_[0]}' (negative class):\")\n",
        "        print(feature_names[bottom_idx])\n",
        "    else:\n",
        "        # Multiclass\n",
        "        for i, cls in enumerate(clf.classes_):\n",
        "            coefs = clf.coef_[i]\n",
        "            top_idx = np.argsort(coefs)[-top_k:]\n",
        "            print(f\"\\nTop terms for class '{cls}':\")\n",
        "            print(feature_names[top_idx])\n"
      ],
      "metadata": {
        "id": "7FQLmTIEPCp9"
      },
      "execution_count": null,
      "outputs": []
    },
    {
      "cell_type": "code",
      "source": [
        "tfidf_reco = TfidfVectorizer(stop_words=\"english\", max_features=60000, ngram_range=(1,2))\n",
        "tfidf_mat = tfidf_reco.fit_transform(df['content_blob'])\n",
        "title_to_index = {t:i for i,t in enumerate(df['title'])}\n",
        "\n",
        "joblib.dump(tfidf_reco, f\"{ART_DIR}/reco_tfidf_vectorizer.joblib\")\n",
        "np.save(f\"{ART_DIR}/reco_tfidf_matrix.npy\", tfidf_mat.toarray() if tfidf_mat.shape[0]*tfidf_mat.shape[1] < 6e7 else None)  # guard memory\n",
        "# Note: saving dense array is optional; we’ll recompute sim on the fly.\n",
        "\n",
        "def get_similar_tfidf(query_title: str, top_n: int = 10, same_type: Optional[str]=None) -> pd.DataFrame:\n",
        "    if query_title not in title_to_index:\n",
        "        # fallback fuzzy search\n",
        "        cands = [t for t in df['title'] if query_title.lower() in t.lower()]\n",
        "        return pd.DataFrame({\"note\":[f\"Title not found. Did you mean: {cands[:10]}?\"]})\n",
        "    idx = title_to_index[query_title]\n",
        "    qv = tfidf_mat[idx]\n",
        "    sims = cosine_similarity(qv, tfidf_mat).ravel()\n",
        "    order = np.argsort(-sims)\n",
        "    # Exclude self\n",
        "    order = [i for i in order if i != idx]\n",
        "    recs = df.iloc[order][['title','type','listed_in','country','description']].copy()\n",
        "    if same_type in (\"Movie\",\"TV Show\"):\n",
        "        recs = recs[recs['type']==same_type]\n",
        "    recs['score'] = sims[[order]]\n",
        "    return recs.head(top_n).reset_index(drop=True)\n",
        "semantic_model_name = \"all-MiniLM-L6-v2\"\n",
        "sem_model = SentenceTransformer(semantic_model_name)\n",
        "# Precompute embeddings for speed (might take ~1-3 minutes depending on size)\n",
        "BATCH_TEXT = df['content_blob'].tolist()\n",
        "embeddings = sem_model.encode(BATCH_TEXT, normalize_embeddings=True, batch_size=128, show_progress_bar=True)\n",
        "np.save(f\"{ART_DIR}/semantic_embeddings.npy\", embeddings)\n",
        "with open(f\"{ART_DIR}/semantic_meta.json\", \"w\") as f:\n",
        "    json.dump({\"model\": semantic_model_name}, f)\n",
        "\n",
        "def get_similar_semantic(query_title: str, top_n: int = 10, same_type: Optional[str]=None) -> pd.DataFrame:\n",
        "    if query_title not in title_to_index:\n",
        "        cands = [t for t in df['title'] if query_title.lower() in t.lower()]\n",
        "        return pd.DataFrame({\"note\":[f\"Title not found. Did you mean: {cands[:10]}?\"]})\n",
        "    idx = title_to_index[query_title]\n",
        "    q_emb = embeddings[idx]\n",
        "    sims = (embeddings @ q_emb)  # since normalized → cosine\n",
        "    order = np.argsort(-sims)\n",
        "    order = [i for i in order if i != idx]\n",
        "    recs = df.iloc[order][['title','type','listed_in','country','description']].copy()\n",
        "    if same_type in (\"Movie\",\"TV Show\"):\n",
        "        recs = recs[recs['type']==same_type]\n",
        "    recs['score'] = sims[[df.index.get_loc(i) if isinstance(i, (np.int64,int)) else i for i in recs.index]]\n",
        "    return recs.head(top_n).reset_index(drop=True)"
      ],
      "metadata": {
        "colab": {
          "base_uri": "https://localhost:8080/",
          "height": 49,
          "referenced_widgets": [
            "8132df46251144bb8004fbc34e85f9ee",
            "283555130d624ae890743e9f7c460ffd",
            "94b2961e21d04bd3a6cc85feb171761f",
            "a8b2738c0a58483eb70a12271f80578b",
            "70b83f9c6300418090d66fb471e9244b",
            "136a30057c2b43bf8440af31384f1a22",
            "d2d7f767cc0f44eb8162dfc36b606485",
            "98cf98aa5bac4271b8fba88fafecbc21",
            "ee86cf5d0fd749efb01aeb7be20066c1",
            "99a2a270b2814c92a3b5c01eb4dbf558",
            "527e3221bc464fef9e909f69235f022c"
          ]
        },
        "id": "dVaZ8jepPIkW",
        "outputId": "93072f5f-d592-4c58-9b64-55a5070c11a1"
      },
      "execution_count": null,
      "outputs": [
        {
          "output_type": "display_data",
          "data": {
            "text/plain": [
              "Batches:   0%|          | 0/49 [00:00<?, ?it/s]"
            ],
            "application/vnd.jupyter.widget-view+json": {
              "version_major": 2,
              "version_minor": 0,
              "model_id": "8132df46251144bb8004fbc34e85f9ee"
            }
          },
          "metadata": {}
        }
      ]
    },
    {
      "cell_type": "code",
      "source": [
        "def get_similar_tfidf(query_title: str, top_n: int = 10, same_type: Optional[str]=None) -> pd.DataFrame:\n",
        "    if query_title not in title_to_index:\n",
        "        # fallback fuzzy search\n",
        "        cands = [t for t in df['title'] if query_title.lower() in t.lower()]\n",
        "        return pd.DataFrame({\"note\":[f\"Title not found. Did you mean: {cands[:10]}?\"]})\n",
        "\n",
        "    idx = title_to_index[query_title]\n",
        "    qv = tfidf_mat[idx]\n",
        "    sims = cosine_similarity(qv, tfidf_mat).ravel()\n",
        "\n",
        "    # sort similarities in descending order\n",
        "    order = np.argsort(-sims)\n",
        "    order = [i for i in order if i != idx]  # drop self\n",
        "\n",
        "    top_idx = order[:top_n]\n",
        "    recs = df.iloc[top_idx][['title','type','listed_in','country','description']].copy()\n",
        "    recs['score'] = sims[top_idx]\n",
        "\n",
        "    if same_type in (\"Movie\",\"TV Show\"):\n",
        "        recs = recs[recs['type']==same_type]\n",
        "\n",
        "    return recs.reset_index(drop=True)\n"
      ],
      "metadata": {
        "id": "tscmfsc4PIhy"
      },
      "execution_count": null,
      "outputs": []
    },
    {
      "cell_type": "code",
      "source": [
        "def classify_titles(texts: List[str]) -> List[str]:\n",
        "    return prod_model.predict(texts).tolist()\n",
        "\n",
        "demo_preds = classify_titles(df['description'].head(10).tolist())\n",
        "print(\"\\nFirst 10 predictions:\", demo_preds)\n",
        "\n",
        "# =========== SAVE CORE ARTIFACTS ===========\n",
        "# Save index metadata for recommender\n",
        "title_index_path = f\"{ART_DIR}/title_to_index.json\"\n",
        "with open(title_index_path, \"w\") as f:\n",
        "    json.dump(title_to_index, f)\n",
        "\n",
        "df[['title','type','listed_in','country','description','content_blob']].to_parquet(f\"{ART_DIR}/df_core.parquet\", index=False)\n",
        "print(\"\\nArtifacts saved to:\", ART_DIR)"
      ],
      "metadata": {
        "colab": {
          "base_uri": "https://localhost:8080/"
        },
        "id": "kytc8YYJQNYf",
        "outputId": "693199bb-6cdc-415b-9e8a-06cc77403d2a"
      },
      "execution_count": null,
      "outputs": [
        {
          "output_type": "stream",
          "name": "stdout",
          "text": [
            "\n",
            "First 10 predictions: ['Movie', 'Movie', 'TV Show', 'TV Show', 'Movie', 'TV Show', 'Movie', 'Movie', 'TV Show', 'Movie']\n",
            "\n",
            "Artifacts saved to: /content/artifacts\n"
          ]
        }
      ]
    },
    {
      "cell_type": "code",
      "source": [
        "import gradio as gr\n",
        "\n",
        "def launch_ui():\n",
        "    with gr.Blocks(theme=gr.themes.Soft(primary_hue=\"blue\")) as demo:\n",
        "        gr.Markdown(\"## 🎬 AI-Powered Movie Recommender\")\n",
        "        gr.Markdown(\"Get smart movie recommendations using **TF-IDF + Semantic Search + ML Models**\")\n",
        "\n",
        "        with gr.Tab(\"🔎 Search & Recommend\"):\n",
        "            with gr.Row():\n",
        "                with gr.Column(scale=1):\n",
        "                    movie_input = gr.Textbox(label=\"Enter a Movie Title\", placeholder=\"e.g., Avatar, Inception\")\n",
        "                    num_recs = gr.Slider(1, 10, value=5, step=1, label=\"Number of Recommendations\")\n",
        "                    btn_recommend = gr.Button(\"Get Recommendations 🚀\")\n",
        "\n",
        "                with gr.Column(scale=2):\n",
        "                    tfidf_out = gr.Dataframe(headers=[\"TF-IDF Similar Movies\"], label=\"TF-IDF Recommendations\")\n",
        "                    semantic_out = gr.Dataframe(headers=[\"Semantic Similar Movies\"], label=\"Semantic Recommendations\")\n",
        "\n",
        "            btn_recommend.click(\n",
        "                lambda title, n: (\n",
        "                    get_similar_tfidf(title, top_n=n),\n",
        "                    get_similar_semantic(title, top_n=n),\n",
        "                ),\n",
        "                inputs=[movie_input, num_recs],\n",
        "                outputs=[tfidf_out, semantic_out]\n",
        "            )\n",
        "\n",
        "        with gr.Tab(\"📊 Model Insights\"):\n",
        "            gr.Markdown(\"### Logistic Regression Feature Importance\")\n",
        "            cls_dropdown = gr.Dropdown(choices=lr_best.classes_.tolist(), label=\"Select Class\")\n",
        "            btn_show_terms = gr.Button(\"Show Top Terms\")\n",
        "            terms_out = gr.Textbox(label=\"Top Keywords\", lines=10)\n",
        "\n",
        "            def show_terms(cls):\n",
        "                clf = lr_best.named_steps[\"clf\"]\n",
        "                tfidf = lr_best.named_steps[\"tfidf\"]\n",
        "                feature_names = np.array(tfidf.get_feature_names_out())\n",
        "                class_idx = list(lr_best.classes_).index(cls)\n",
        "                coefs = clf.coef_[class_idx]\n",
        "                top_idx = np.argsort(coefs)[-20:]\n",
        "                return \", \".join(feature_names[top_idx])\n",
        "\n",
        "            btn_show_terms.click(show_terms, inputs=[cls_dropdown], outputs=[terms_out])\n",
        "\n",
        "        with gr.Tab(\"📈 Data Explorer\"):\n",
        "            gr.Markdown(\"Browse the dataset interactively below 👇\")\n",
        "            data_table = gr.Dataframe(value=df.head(20), label=\"Movie Dataset Preview\", interactive=False)\n",
        "\n",
        "    return demo\n",
        "\n",
        "demo = launch_ui()\n",
        "demo.launch()"
      ],
      "metadata": {
        "colab": {
          "base_uri": "https://localhost:8080/",
          "height": 645
        },
        "id": "qFe3lo7GQNTp",
        "outputId": "3a58ab21-4ce2-45f0-cb3f-a1e24d39a803"
      },
      "execution_count": null,
      "outputs": [
        {
          "output_type": "stream",
          "name": "stdout",
          "text": [
            "Setting queue=True in a Colab notebook requires sharing enabled. Setting `share=True` (you can turn this off by setting `share=False` in `launch()` explicitly).\n",
            "\n",
            "Colab notebook detected. To show errors in colab notebook, set debug=True in launch()\n",
            "Running on public URL: https://c5c130dbef741bda2f.gradio.live\n",
            "\n",
            "This share link expires in 72 hours. For free permanent hosting and GPU upgrades, run `gradio deploy` from Terminal to deploy to Spaces (https://huggingface.co/spaces)\n"
          ]
        },
        {
          "output_type": "display_data",
          "data": {
            "text/plain": [
              "<IPython.core.display.HTML object>"
            ],
            "text/html": [
              "<div><iframe src=\"https://c5c130dbef741bda2f.gradio.live\" width=\"100%\" height=\"500\" allow=\"autoplay; camera; microphone; clipboard-read; clipboard-write;\" frameborder=\"0\" allowfullscreen></iframe></div>"
            ]
          },
          "metadata": {}
        },
        {
          "output_type": "execute_result",
          "data": {
            "text/plain": []
          },
          "metadata": {},
          "execution_count": 73
        }
      ]
    }
  ]
}